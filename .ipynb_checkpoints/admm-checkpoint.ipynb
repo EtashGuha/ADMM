{
 "cells": [
  {
   "cell_type": "code",
   "execution_count": 8,
   "metadata": {},
   "outputs": [],
   "source": [
    "import torch\n",
    "import numpy as np\n",
    "import math\n",
    "from scipy.linalg import null_space\n",
    "from numpy.linalg import svd\n",
    "import matplotlib.pyplot as plt\n",
    "\n",
    "def nullspace(A, atol=1e-13, rtol=0):\n",
    "    A = np.atleast_2d(A)\n",
    "    u, s, vh = svd(A)\n",
    "    tol = max(atol, rtol * s[0])\n",
    "    nnz = (s >= tol).sum()\n",
    "    ns = vh[nnz:].conj().T\n",
    "    return ns"
   ]
  },
  {
   "cell_type": "code",
   "execution_count": 9,
   "metadata": {},
   "outputs": [],
   "source": [
    "torch.device('cuda')\n",
    "class admm(object):\n",
    "    def __init__(self, C, A, b):\n",
    "        self.C = C\n",
    "        self.A = A\n",
    "        self.b = b\n",
    "        val = np.linalg.lstsq(self.A.numpy(), self.b.numpy())\n",
    "        self.x0 = torch.from_numpy(val[0])\n",
    "        self.Q = torch.from_numpy(null_space(self.A.numpy()))\n",
    "        self.x = self.x0\n",
    "        self.z = self.x\n",
    "        self.mu = torch.zeros(self.z.size(), dtype=torch.double)\n",
    "        self.omega = torch.zeros(self.z.size(), dtype=torch.double)\n",
    "        self.rho = 1\n",
    "        self.alpha = 1\n",
    "        \n",
    "    def h(self, z):\n",
    "        return z.abs_()\n",
    "        \n",
    "    def iterate(self):\n",
    "        val1 = torch.matmul(self.Q.t(), self.Q).inverse()\n",
    "        val2 = torch.matmul(self.Q.t(), self.z - self.x0 - self.mu)\n",
    "        val3 = 1/self.rho * torch.matmul(self.Q.t(), self.C)\n",
    "        self.omega = torch.matmul(val1, val2 - val3)\n",
    "        self.z = self.h(torch.matmul(self.Q, self.omega) + self.x0 + self.mu)\n",
    "        self.mu = self.mu + torch.matmul(self.Q, self.omega) - self.z + self.x0\n",
    "        \n",
    "    def currentVal(self):\n",
    "        val = torch.matmul(self.C.t(), self.z)\n",
    "        return val"
   ]
  },
  {
   "cell_type": "code",
   "execution_count": 10,
   "metadata": {},
   "outputs": [
    {
     "name": "stderr",
     "output_type": "stream",
     "text": [
      "/anaconda2/envs/myenv/lib/python3.5/site-packages/ipykernel_launcher.py:7: FutureWarning: `rcond` parameter will change to the default of machine precision times ``max(M, N)`` where M and N are the input matrix dimensions.\n",
      "To use the future default and silence this warning we advise to pass `rcond=None`, to keep using the old, explicitly pass `rcond=-1`.\n",
      "  import sys\n"
     ]
    }
   ],
   "source": [
    "M = 10\n",
    "N = 100\n",
    "A = torch.randn(M, N, dtype=torch.double)\n",
    "\n",
    "C = torch.randn(N, 1, dtype=torch.double)\n",
    "b = torch.randn(M, 1, dtype=torch.double)\n",
    "opt = admm(C,A,b)"
   ]
  },
  {
   "cell_type": "code",
   "execution_count": 11,
   "metadata": {},
   "outputs": [],
   "source": [
    "b = []\n",
    "for i in range(100):\n",
    "    opt.iterate()\n",
    "    b.append(opt.currentVal()[0][0].item())"
   ]
  },
  {
   "cell_type": "code",
   "execution_count": 12,
   "metadata": {},
   "outputs": [
    {
     "data": {
      "text/plain": [
       "[<matplotlib.lines.Line2D at 0x625fdfbe0>]"
      ]
     },
     "execution_count": 12,
     "metadata": {},
     "output_type": "execute_result"
    },
    {
     "data": {
      "image/png": "[encoded data removed]",
      "text/plain": [
       "<Figure size 432x288 with 1 Axes>"
      ]
     },
     "metadata": {
      "needs_background": "light"
     },
     "output_type": "display_data"
    }
   ],
   "source": [
    "plt.plot(b)"
   ]
  },
  {
   "cell_type": "code",
   "execution_count": 259,
   "metadata": {},
   "outputs": [
    {
     "name": "stdout",
     "output_type": "stream",
     "text": [
      "[-6.556248252087945e+40, -1.6706326063076113e+41, -4.257028101962598e+41, -1.0847560494436159e+42, -2.7641247805294565e+42, -7.043413868266454e+42, -1.7947698768571905e+43, -4.573348905971394e+43, -1.165359441644668e+44, -2.969514585815135e+44]\n"
     ]
    }
   ],
   "source": [
    "print(b)"
   ]
  },
  {
   "cell_type": "code",
   "execution_count": null,
   "metadata": {},
   "outputs": [],
   "source": []
  }
 ],
 "metadata": {
  "kernelspec": {
   "display_name": "Python 3",
   "language": "python",
   "name": "python3"
  },
  "language_info": {
   "codemirror_mode": {
    "name": "ipython",
    "version": 3
   },
   "file_extension": ".py",
   "mimetype": "text/x-python",
   "name": "python",
   "nbconvert_exporter": "python",
   "pygments_lexer": "ipython3",
   "version": "3.5.6"
  }
 },
 "nbformat": 4,
 "nbformat_minor": 2
}
